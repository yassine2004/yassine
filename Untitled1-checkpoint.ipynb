{
 "cells": [
  {
   "cell_type": "code",
   "execution_count": 4,
   "metadata": {},
   "outputs": [
    {
     "name": "stdout",
     "output_type": "stream",
     "text": [
      "6\n"
     ]
    }
   ],
   "source": [
    "#ex1\n",
    "def max_of_two( x, y ):\n",
    "    if x > y:\n",
    "        return x\n",
    "    return y\n",
    "def max_of_three( x, y, z ):\n",
    "    return max_of_two( x, max_of_two( y, z ) )\n",
    "print(max_of_three(3, 6, -5))"
   ]
  },
  {
   "cell_type": "code",
   "execution_count": 5,
   "metadata": {},
   "outputs": [
    {
     "name": "stdout",
     "output_type": "stream",
     "text": [
      "Sum of all elements in given list:  114\n"
     ]
    }
   ],
   "source": [
    "#ex2 part1\n",
    "total=0\n",
    "list1=[11, 15, 17, 38, 33] \n",
    "for ele in range(0, len(list1)): \n",
    "    total = total + list1[ele] \n",
    "print(\"Sum of all elements in given list: \", total)"
   ]
  },
  {
   "cell_type": "code",
   "execution_count": 6,
   "metadata": {},
   "outputs": [
    {
     "name": "stdout",
     "output_type": "stream",
     "text": [
      "[2, 4, 6]\n"
     ]
    }
   ],
   "source": [
    "#Ex2 part2\n",
    "a_list=[1,2,3]\n",
    "multiplied_list=[element*2 for element in a_list]\n",
    "print(multiplied_list)"
   ]
  },
  {
   "cell_type": "code",
   "execution_count": 7,
   "metadata": {},
   "outputs": [
    {
     "name": "stdout",
     "output_type": "stream",
     "text": [
      "Even index positions sum  9\n",
      "Odd index positions sum  12\n"
     ]
    }
   ],
   "source": [
    "#Ex2 part 3\n",
    "def EvenOddSum(a, n): \n",
    "    even = 0\n",
    "    odd = 0\n",
    "    for i in range(n): \n",
    "        if i % 2 == 0: \n",
    "            even += a[i] \n",
    "        else: \n",
    "            odd += a[i] \n",
    "      \n",
    "    print ((\"Even index positions sum \"), even)\n",
    "    print ((\"Odd index positions sum \"), odd) \n",
    "  \n",
    "\n",
    "  \n",
    "arr = [1, 2, 3, 4, 5, 6] \n",
    "n = len(arr) \n",
    "  \n",
    "EvenOddSum(arr, n) "
   ]
  },
  {
   "cell_type": "code",
   "execution_count": 8,
   "metadata": {},
   "outputs": [
    {
     "name": "stdin",
     "output_type": "stream",
     "text": [
      " green-yellow-brown\n"
     ]
    },
    {
     "name": "stdout",
     "output_type": "stream",
     "text": [
      "brown-green-yellow\n"
     ]
    }
   ],
   "source": [
    "#ex3\n",
    "items=[n for n in input().split('-')]\n",
    "items.sort()\n",
    "print('-'.join(items))"
   ]
  },
  {
   "cell_type": "code",
   "execution_count": null,
   "metadata": {},
   "outputs": [],
   "source": []
  }
 ],
 "metadata": {
  "kernelspec": {
   "display_name": "Python 3",
   "language": "python",
   "name": "python3"
  },
  "language_info": {
   "codemirror_mode": {
    "name": "ipython",
    "version": 3
   },
   "file_extension": ".py",
   "mimetype": "text/x-python",
   "name": "python",
   "nbconvert_exporter": "python",
   "pygments_lexer": "ipython3",
   "version": "3.8.3"
  }
 },
 "nbformat": 4,
 "nbformat_minor": 4
}
